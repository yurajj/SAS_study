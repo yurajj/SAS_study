{
  "nbformat": 4,
  "nbformat_minor": 0,
  "metadata": {
    "colab": {
      "provenance": [],
      "authorship_tag": "ABX9TyOweBV31bHfAD3dU/ddEihL",
      "include_colab_link": true
    },
    "kernelspec": {
      "name": "python3",
      "display_name": "Python 3"
    },
    "language_info": {
      "name": "python"
    }
  },
  "cells": [
    {
      "cell_type": "markdown",
      "metadata": {
        "id": "view-in-github",
        "colab_type": "text"
      },
      "source": [
        "<a href=\"https://colab.research.google.com/github/yurajj/SAS_study/blob/main/whiles_jyr.ipynb\" target=\"_parent\"><img src=\"https://colab.research.google.com/assets/colab-badge.svg\" alt=\"Open In Colab\"/></a>"
      ]
    },
    {
      "cell_type": "code",
      "execution_count": 16,
      "metadata": {
        "colab": {
          "base_uri": "https://localhost:8080/"
        },
        "id": "b-h1gbMBXPQb",
        "outputId": "dacfdae6-07c8-4be6-baf8-d48303515f93"
      },
      "outputs": [
        {
          "output_type": "stream",
          "name": "stdout",
          "text": [
            "1\n",
            "in whiling\n",
            "2\n",
            "in whiling\n",
            "3\n",
            "in whiling\n",
            "END\n"
          ]
        }
      ],
      "source": [
        "first = 1\n",
        "while first < 4 :\n",
        "  print(first)\n",
        "  print('in whiling')\n",
        "  first += 1\n",
        "\n",
        "print('END')"
      ]
    },
    {
      "cell_type": "code",
      "source": [],
      "metadata": {
        "id": "R3E4uH4oY9jr"
      },
      "execution_count": null,
      "outputs": []
    }
  ]
}